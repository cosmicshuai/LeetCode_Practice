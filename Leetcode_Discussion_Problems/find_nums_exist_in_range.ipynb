{
 "cells": [
  {
   "cell_type": "markdown",
   "metadata": {},
   "source": [
    "##Problem Link\n",
    "https://leetcode.com/discuss/interview-question/2535378/Google-India-or-Phone-Screen-or-June-22"
   ]
  },
  {
   "cell_type": "markdown",
   "metadata": {},
   "source": [
    "We are given a stream of numbers. We have to write a method ACK() which returns a number x such that we have already received all the numbers from 1 to x in the stream till that point.\n",
    "Sample stream and call for ACK() function\n",
    "1\n",
    "2\n",
    "ACK() --> return 2\n",
    "4\n",
    "5\n",
    "ACK() --> return 2\n",
    "3\n",
    "7\n",
    "ACK() --> return 5\n",
    "6\n",
    "ACK() --> return 7"
   ]
  },
  {
   "cell_type": "code",
   "execution_count": null,
   "metadata": {},
   "outputs": [
    {
     "ename": "",
     "evalue": "",
     "output_type": "error",
     "traceback": [
      "\u001b[1;31mRunning cells with 'Python 3.10.5 64-bit' requires ipykernel package.\n",
      "\u001b[1;31mRun the following command to install 'ipykernel' into the Python environment. \n",
      "\u001b[1;31mCommand: 'c:/Users/cosmic/AppData/Local/Programs/Python/Python310/python.exe -m pip install ipykernel -U --user --force-reinstall'"
     ]
    }
   ],
   "source": [
    "import bisect\n",
    "class RangeFinder():\n",
    "    def __init__(self):\n",
    "        self.seen = set()\n",
    "        self.nums = []\n",
    "\n",
    "    def addValue(self, num):\n",
    "        if not num in self.seen:\n",
    "            self.seen.add(num)\n",
    "            bisect.insort(self.nums, num)\n",
    "    \n",
    "    def ack(self):\n",
    "        # find last true, nums[idx] <= idx + 1\n",
    "        lo = -1\n",
    "        hi = len(self.nums) - 1\n",
    "        while lo < hi:\n",
    "            mid = lo + (hi - lo + 1) // 2\n",
    "            if self.nums[mid] <= mid + 1:\n",
    "                lo = mid\n",
    "            else:\n",
    "                hi = mid - 1\n",
    "        return lo + 1\n",
    "\n"
   ]
  }
 ],
 "metadata": {
  "kernelspec": {
   "display_name": "Python 3.10.5 64-bit",
   "language": "python",
   "name": "python3"
  },
  "language_info": {
   "name": "python",
   "version": "3.10.5"
  },
  "orig_nbformat": 4,
  "vscode": {
   "interpreter": {
    "hash": "f8132cb0a04fef0d174e69342dc264c9efe343c777a2a94356973a359ffd2d01"
   }
  }
 },
 "nbformat": 4,
 "nbformat_minor": 2
}
